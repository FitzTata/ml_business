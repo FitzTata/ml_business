{
 "cells": [
  {
   "cell_type": "markdown",
   "metadata": {
    "id": "TUjzxmyZTFX8"
   },
   "source": [
    "1. скачать набор данных маркетинговых кампаний отсюда https://www.kaggle.com/davinwijaya/customer-retention"
   ]
  },
  {
   "cell_type": "code",
   "execution_count": 4,
   "metadata": {
    "id": "xBLAEkbYVTUQ"
   },
   "outputs": [],
   "source": [
    "import numpy as np \n",
    "import pandas as pd \n",
    "\n",
    "from sklearn.pipeline import Pipeline, make_pipeline\n",
    "from sklearn.pipeline import FeatureUnion\n",
    "from sklearn.base import BaseEstimator, TransformerMixin\n",
    "from sklearn.model_selection import cross_val_score, train_test_split\n",
    "from sklearn.preprocessing import StandardScaler\n",
    "from catboost import CatBoostClassifier\n",
    "\n",
    "\n",
    "from sklift.metrics import uplift_at_k\n",
    "from sklift.viz import plot_uplift_preds\n",
    "from sklift.models import SoloModel\n",
    "from sklift.viz import plot_qini_curve\n",
    "from sklift.viz import plot_uplift_curve\n",
    "from sklift.models import ClassTransformation\n",
    "from sklift.models import TwoModels\n",
    "\n",
    "import matplotlib.pyplot as plt\n",
    "import seaborn as sns\n",
    "\n",
    "\n",
    "import warnings\n",
    "warnings.filterwarnings('ignore')\n"
   ]
  },
  {
   "cell_type": "code",
   "execution_count": 9,
   "metadata": {},
   "outputs": [],
   "source": [
    "import zipfile\n",
    "with zipfile.ZipFile('./archive.zip', 'r') as zip_ref:\n",
    "    zip_ref.extractall('./')"
   ]
  },
  {
   "cell_type": "markdown",
   "metadata": {
    "id": "CFqDWzYNTGve"
   },
   "source": [
    "\n",
    "2. поле conversion - это целевая переменная, а offer - коммуникация. Переименовать поля (conversion -> target, offer -> treatment) и привести поле treatment к бинарному виду (1 или 0, т.е было какое-то предложение или нет) - значение No Offer означает отсутствие коммуникации, а все остальные - наличие."
   ]
  },
  {
   "cell_type": "code",
   "execution_count": 10,
   "metadata": {
    "colab": {
     "base_uri": "https://localhost:8080/",
     "height": 206
    },
    "id": "xtUro76TTpyG",
    "outputId": "4278e11e-821f-4007-b11a-8d863901f3b7"
   },
   "outputs": [
    {
     "data": {
      "text/html": [
       "<div>\n",
       "<style scoped>\n",
       "    .dataframe tbody tr th:only-of-type {\n",
       "        vertical-align: middle;\n",
       "    }\n",
       "\n",
       "    .dataframe tbody tr th {\n",
       "        vertical-align: top;\n",
       "    }\n",
       "\n",
       "    .dataframe thead th {\n",
       "        text-align: right;\n",
       "    }\n",
       "</style>\n",
       "<table border=\"1\" class=\"dataframe\">\n",
       "  <thead>\n",
       "    <tr style=\"text-align: right;\">\n",
       "      <th></th>\n",
       "      <th>recency</th>\n",
       "      <th>history</th>\n",
       "      <th>used_discount</th>\n",
       "      <th>used_bogo</th>\n",
       "      <th>zip_code</th>\n",
       "      <th>is_referral</th>\n",
       "      <th>channel</th>\n",
       "      <th>offer</th>\n",
       "      <th>conversion</th>\n",
       "    </tr>\n",
       "  </thead>\n",
       "  <tbody>\n",
       "    <tr>\n",
       "      <th>0</th>\n",
       "      <td>10</td>\n",
       "      <td>142.44</td>\n",
       "      <td>1</td>\n",
       "      <td>0</td>\n",
       "      <td>Surburban</td>\n",
       "      <td>0</td>\n",
       "      <td>Phone</td>\n",
       "      <td>Buy One Get One</td>\n",
       "      <td>0</td>\n",
       "    </tr>\n",
       "    <tr>\n",
       "      <th>1</th>\n",
       "      <td>6</td>\n",
       "      <td>329.08</td>\n",
       "      <td>1</td>\n",
       "      <td>1</td>\n",
       "      <td>Rural</td>\n",
       "      <td>1</td>\n",
       "      <td>Web</td>\n",
       "      <td>No Offer</td>\n",
       "      <td>0</td>\n",
       "    </tr>\n",
       "    <tr>\n",
       "      <th>2</th>\n",
       "      <td>7</td>\n",
       "      <td>180.65</td>\n",
       "      <td>0</td>\n",
       "      <td>1</td>\n",
       "      <td>Surburban</td>\n",
       "      <td>1</td>\n",
       "      <td>Web</td>\n",
       "      <td>Buy One Get One</td>\n",
       "      <td>0</td>\n",
       "    </tr>\n",
       "    <tr>\n",
       "      <th>3</th>\n",
       "      <td>9</td>\n",
       "      <td>675.83</td>\n",
       "      <td>1</td>\n",
       "      <td>0</td>\n",
       "      <td>Rural</td>\n",
       "      <td>1</td>\n",
       "      <td>Web</td>\n",
       "      <td>Discount</td>\n",
       "      <td>0</td>\n",
       "    </tr>\n",
       "    <tr>\n",
       "      <th>4</th>\n",
       "      <td>2</td>\n",
       "      <td>45.34</td>\n",
       "      <td>1</td>\n",
       "      <td>0</td>\n",
       "      <td>Urban</td>\n",
       "      <td>0</td>\n",
       "      <td>Web</td>\n",
       "      <td>Buy One Get One</td>\n",
       "      <td>0</td>\n",
       "    </tr>\n",
       "  </tbody>\n",
       "</table>\n",
       "</div>"
      ],
      "text/plain": [
       "   recency  history  used_discount  used_bogo   zip_code  is_referral channel  \\\n",
       "0       10   142.44              1          0  Surburban            0   Phone   \n",
       "1        6   329.08              1          1      Rural            1     Web   \n",
       "2        7   180.65              0          1  Surburban            1     Web   \n",
       "3        9   675.83              1          0      Rural            1     Web   \n",
       "4        2    45.34              1          0      Urban            0     Web   \n",
       "\n",
       "             offer  conversion  \n",
       "0  Buy One Get One           0  \n",
       "1         No Offer           0  \n",
       "2  Buy One Get One           0  \n",
       "3         Discount           0  \n",
       "4  Buy One Get One           0  "
      ]
     },
     "execution_count": 10,
     "metadata": {},
     "output_type": "execute_result"
    }
   ],
   "source": [
    "df = pd.read_csv('data.csv', sep=',')\n",
    "df.head()"
   ]
  },
  {
   "cell_type": "code",
   "execution_count": 11,
   "metadata": {
    "colab": {
     "base_uri": "https://localhost:8080/",
     "height": 206
    },
    "id": "9gpL_xLtVYZv",
    "outputId": "0422c8dd-ad02-4d00-b233-03c44e71713c"
   },
   "outputs": [
    {
     "data": {
      "text/html": [
       "<div>\n",
       "<style scoped>\n",
       "    .dataframe tbody tr th:only-of-type {\n",
       "        vertical-align: middle;\n",
       "    }\n",
       "\n",
       "    .dataframe tbody tr th {\n",
       "        vertical-align: top;\n",
       "    }\n",
       "\n",
       "    .dataframe thead th {\n",
       "        text-align: right;\n",
       "    }\n",
       "</style>\n",
       "<table border=\"1\" class=\"dataframe\">\n",
       "  <thead>\n",
       "    <tr style=\"text-align: right;\">\n",
       "      <th></th>\n",
       "      <th>recency</th>\n",
       "      <th>history</th>\n",
       "      <th>used_discount</th>\n",
       "      <th>used_bogo</th>\n",
       "      <th>zip_code</th>\n",
       "      <th>is_referral</th>\n",
       "      <th>channel</th>\n",
       "      <th>treatment</th>\n",
       "      <th>target</th>\n",
       "    </tr>\n",
       "  </thead>\n",
       "  <tbody>\n",
       "    <tr>\n",
       "      <th>0</th>\n",
       "      <td>10</td>\n",
       "      <td>142.44</td>\n",
       "      <td>1</td>\n",
       "      <td>0</td>\n",
       "      <td>Surburban</td>\n",
       "      <td>0</td>\n",
       "      <td>Phone</td>\n",
       "      <td>1</td>\n",
       "      <td>0</td>\n",
       "    </tr>\n",
       "    <tr>\n",
       "      <th>1</th>\n",
       "      <td>6</td>\n",
       "      <td>329.08</td>\n",
       "      <td>1</td>\n",
       "      <td>1</td>\n",
       "      <td>Rural</td>\n",
       "      <td>1</td>\n",
       "      <td>Web</td>\n",
       "      <td>0</td>\n",
       "      <td>0</td>\n",
       "    </tr>\n",
       "    <tr>\n",
       "      <th>2</th>\n",
       "      <td>7</td>\n",
       "      <td>180.65</td>\n",
       "      <td>0</td>\n",
       "      <td>1</td>\n",
       "      <td>Surburban</td>\n",
       "      <td>1</td>\n",
       "      <td>Web</td>\n",
       "      <td>1</td>\n",
       "      <td>0</td>\n",
       "    </tr>\n",
       "    <tr>\n",
       "      <th>3</th>\n",
       "      <td>9</td>\n",
       "      <td>675.83</td>\n",
       "      <td>1</td>\n",
       "      <td>0</td>\n",
       "      <td>Rural</td>\n",
       "      <td>1</td>\n",
       "      <td>Web</td>\n",
       "      <td>1</td>\n",
       "      <td>0</td>\n",
       "    </tr>\n",
       "    <tr>\n",
       "      <th>4</th>\n",
       "      <td>2</td>\n",
       "      <td>45.34</td>\n",
       "      <td>1</td>\n",
       "      <td>0</td>\n",
       "      <td>Urban</td>\n",
       "      <td>0</td>\n",
       "      <td>Web</td>\n",
       "      <td>1</td>\n",
       "      <td>0</td>\n",
       "    </tr>\n",
       "  </tbody>\n",
       "</table>\n",
       "</div>"
      ],
      "text/plain": [
       "   recency  history  used_discount  used_bogo   zip_code  is_referral channel  \\\n",
       "0       10   142.44              1          0  Surburban            0   Phone   \n",
       "1        6   329.08              1          1      Rural            1     Web   \n",
       "2        7   180.65              0          1  Surburban            1     Web   \n",
       "3        9   675.83              1          0      Rural            1     Web   \n",
       "4        2    45.34              1          0      Urban            0     Web   \n",
       "\n",
       "  treatment  target  \n",
       "0         1       0  \n",
       "1         0       0  \n",
       "2         1       0  \n",
       "3         1       0  \n",
       "4         1       0  "
      ]
     },
     "execution_count": 11,
     "metadata": {},
     "output_type": "execute_result"
    }
   ],
   "source": [
    "df.rename(columns={'offer':'treatment', 'conversion':'target'}, inplace=True)\n",
    "df.loc[df['treatment'] != 'No Offer', 'treatment'] = 1\n",
    "df.loc[df['treatment'] == 'No Offer', 'treatment'] = 0\n",
    "df.head()"
   ]
  },
  {
   "cell_type": "code",
   "execution_count": 12,
   "metadata": {
    "id": "wpcvkjVIU0cI"
   },
   "outputs": [],
   "source": [
    "cat_feature = ['zip_code', 'channel']"
   ]
  },
  {
   "cell_type": "markdown",
   "metadata": {
    "id": "d_yf96lnTWtB"
   },
   "source": [
    "3. сделать разбиение набора данных не тренировочную и тестовую выборки"
   ]
  },
  {
   "cell_type": "code",
   "execution_count": 13,
   "metadata": {
    "id": "y7FuvcZNhVnP"
   },
   "outputs": [],
   "source": [
    "# разделим данные на train/test\n",
    "X_train, X_test, y_train, y_test = train_test_split(df.drop(columns='target'),\n",
    "                                                    df['target'],\n",
    "                                                    test_size=0.25,  \n",
    "                                                    random_state=42,\n",
    "                                                    stratify=df['target'])\n",
    "\n",
    "treat_train = X_train['treatment']\n",
    "X_train.drop(columns=['treatment'], inplace=True)\n",
    "treat_val = X_test['treatment']\n",
    "X_test.drop(columns='treatment', inplace=True)"
   ]
  },
  {
   "cell_type": "markdown",
   "metadata": {
    "id": "Ed_hDVVzTYQ_"
   },
   "source": [
    "5. провести uplift-моделирование 3 способами:\n",
    "    1. одна модель с признаком коммуникации (S-learner)\n",
    "    2. модель с трансформацией таргета\n",
    "    3. вариант с двумя независимыми моделями"
   ]
  },
  {
   "cell_type": "code",
   "execution_count": 14,
   "metadata": {
    "colab": {
     "base_uri": "https://localhost:8080/",
     "height": 49
    },
    "id": "eHxJDaB9T4uA",
    "outputId": "ef35265f-393c-43a5-c898-8fedfba2ddb5"
   },
   "outputs": [
    {
     "data": {
      "text/html": [
       "<div>\n",
       "<style scoped>\n",
       "    .dataframe tbody tr th:only-of-type {\n",
       "        vertical-align: middle;\n",
       "    }\n",
       "\n",
       "    .dataframe tbody tr th {\n",
       "        vertical-align: top;\n",
       "    }\n",
       "\n",
       "    .dataframe thead th {\n",
       "        text-align: right;\n",
       "    }\n",
       "</style>\n",
       "<table border=\"1\" class=\"dataframe\">\n",
       "  <thead>\n",
       "    <tr style=\"text-align: right;\">\n",
       "      <th></th>\n",
       "      <th>model</th>\n",
       "      <th>uplift@10%</th>\n",
       "      <th>uplift@20%</th>\n",
       "    </tr>\n",
       "  </thead>\n",
       "  <tbody>\n",
       "  </tbody>\n",
       "</table>\n",
       "</div>"
      ],
      "text/plain": [
       "Empty DataFrame\n",
       "Columns: [model, uplift@10%, uplift@20%]\n",
       "Index: []"
      ]
     },
     "execution_count": 14,
     "metadata": {},
     "output_type": "execute_result"
    }
   ],
   "source": [
    "metrics_df = pd.DataFrame(columns=['model', 'uplift@10%', 'uplift@20%'])\n",
    "metrics_df"
   ]
  },
  {
   "cell_type": "markdown",
   "metadata": {
    "id": "48rdrfgMFi2S"
   },
   "source": [
    "## 1. Подход с одной моделью"
   ]
  },
  {
   "cell_type": "code",
   "execution_count": 15,
   "metadata": {
    "colab": {
     "base_uri": "https://localhost:8080/",
     "height": 444
    },
    "id": "tvU6f0RMhVnR",
    "outputId": "08e8b5c4-889c-451c-dda3-88671f35032b"
   },
   "outputs": [
    {
     "data": {
      "image/png": "[encoded data removed]",
      "text/plain": [
       "<Figure size 1440x504 with 3 Axes>"
      ]
     },
     "metadata": {
      "needs_background": "light"
     },
     "output_type": "display_data"
    }
   ],
   "source": [
    "sm = SoloModel(CatBoostClassifier(iterations=20, random_state=42, silent=True, cat_features=cat_feature))\n",
    "\n",
    "sm = sm.fit(X_train, y_train, treat_train)\n",
    "\n",
    "uplift_sm = sm.predict(X_test)\n",
    "\n",
    "sm_score_10 = uplift_at_k(y_true=y_test, uplift=uplift_sm, treatment=treat_val, strategy='by_group', k=0.1)\n",
    "sm_score_20 = uplift_at_k(y_true=y_test, uplift=uplift_sm, treatment=treat_val, strategy='by_group', k=0.2)\n",
    "\n",
    "metrics_df = metrics_df.append({\n",
    "    'model': type(sm).__name__,\n",
    "    'uplift@10%': sm_score_10,\n",
    "    'uplift@20%': sm_score_20\n",
    "}, ignore_index=True)\n",
    "\n",
    "# Получим условные вероятности выполнения целевого действия при взаимодействии для каждого объекта\n",
    "sm_trmnt_preds = sm.trmnt_preds_\n",
    "# И условные вероятности выполнения целевого действия без взаимодействия для каждого объекта\n",
    "sm_ctrl_preds = sm.ctrl_preds_\n",
    "\n",
    "# Отрисуем распределения вероятностей и их разность (uplift)\n",
    "plot_uplift_preds(trmnt_preds=sm_trmnt_preds, ctrl_preds=sm_ctrl_preds);"
   ]
  },
  {
   "cell_type": "markdown",
   "metadata": {
    "id": "ubRWYIfKuC9h"
   },
   "source": [
    "### 1.2 Трансформация классов"
   ]
  },
  {
   "cell_type": "code",
   "execution_count": 16,
   "metadata": {
    "colab": {
     "base_uri": "https://localhost:8080/",
     "height": 444
    },
    "id": "ebIPBtaeurSg",
    "outputId": "c3719b75-564e-4287-9335-7fb49f60e922"
   },
   "outputs": [
    {
     "data": {
      "image/png": "[encoded data removed]",
      "text/plain": [
       "<Figure size 1440x504 with 3 Axes>"
      ]
     },
     "metadata": {
      "needs_background": "light"
     },
     "output_type": "display_data"
    }
   ],
   "source": [
    "ct = ClassTransformation(CatBoostClassifier(iterations=20, random_state=42, silent=True, cat_features=cat_feature))\n",
    "ct = ct.fit(X_train, y_train, treat_train)\n",
    "\n",
    "uplift_ct = ct.predict(X_test)\n",
    "\n",
    "ct_score_10 = uplift_at_k(y_true=y_test, uplift=uplift_ct, treatment=treat_val, strategy='by_group', k=0.1)\n",
    "ct_score_20 = uplift_at_k(y_true=y_test, uplift=uplift_ct, treatment=treat_val, strategy='by_group', k=0.2)\n",
    "\n",
    "metrics_df = metrics_df.append({\n",
    "    'model': type(ct).__name__,\n",
    "    'uplift@10%': ct_score_10,\n",
    "    'uplift@20%': ct_score_20\n",
    "}, ignore_index=True)\n",
    "\n",
    "\n",
    "# Отрисуем распределения вероятностей и их разность (uplift)\n",
    "plot_uplift_preds(trmnt_preds=sm.trmnt_preds_, ctrl_preds=sm.ctrl_preds_);"
   ]
  },
  {
   "cell_type": "markdown",
   "metadata": {
    "id": "N9Tzf7wMw8KQ"
   },
   "source": [
    "### 2. Две независимые модели"
   ]
  },
  {
   "cell_type": "code",
   "execution_count": 17,
   "metadata": {
    "colab": {
     "base_uri": "https://localhost:8080/",
     "height": 444
    },
    "id": "X9VB11gtxfJA",
    "outputId": "9823494f-0361-4f68-fcc4-b457d8ff3b0e"
   },
   "outputs": [
    {
     "data": {
      "image/png": "[encoded data removed]",
      "text/plain": [
       "<Figure size 1440x504 with 3 Axes>"
      ]
     },
     "metadata": {
      "needs_background": "light"
     },
     "output_type": "display_data"
    }
   ],
   "source": [
    "tm = TwoModels(\n",
    "    CatBoostClassifier(iterations=20, random_state=42, silent=True, cat_features=cat_feature),\n",
    "    CatBoostClassifier(iterations=20, random_state=42, silent=True, cat_features=cat_feature),\n",
    "    method='vanilla'  # независимые модели\n",
    ")\n",
    "tm = tm.fit(\n",
    "    X_train, y_train, treat_train\n",
    ")\n",
    "\n",
    "uplift_tm = tm.predict(X_test)\n",
    "\n",
    "tm_score_10 = uplift_at_k(y_true=y_test, uplift=uplift_tm, treatment=treat_val, strategy='by_group', k=0.1)\n",
    "tm_score_20 = uplift_at_k(y_true=y_test, uplift=uplift_tm, treatment=treat_val, strategy='by_group', k=0.2)\n",
    "\n",
    "metrics_df = metrics_df.append({\n",
    "    'model': type(tm).__name__,\n",
    "    'uplift@10%': tm_score_10,\n",
    "    'uplift@20%': tm_score_20\n",
    "}, ignore_index=True)\n",
    "\n",
    "plot_uplift_preds(trmnt_preds=tm.trmnt_preds_, ctrl_preds=tm.ctrl_preds_);"
   ]
  },
  {
   "cell_type": "markdown",
   "metadata": {
    "id": "aRoUPUkszU3-"
   },
   "source": [
    "6. в конце вывести единую таблицу сравнения метрик uplift@10%, uplift@20% 3 моделей"
   ]
  },
  {
   "cell_type": "code",
   "execution_count": 18,
   "metadata": {
    "colab": {
     "base_uri": "https://localhost:8080/",
     "height": 143
    },
    "id": "18y8SVl5VjUi",
    "outputId": "2dba2da4-99fc-439a-a893-0a237652ba7d"
   },
   "outputs": [
    {
     "data": {
      "text/html": [
       "<div>\n",
       "<style scoped>\n",
       "    .dataframe tbody tr th:only-of-type {\n",
       "        vertical-align: middle;\n",
       "    }\n",
       "\n",
       "    .dataframe tbody tr th {\n",
       "        vertical-align: top;\n",
       "    }\n",
       "\n",
       "    .dataframe thead th {\n",
       "        text-align: right;\n",
       "    }\n",
       "</style>\n",
       "<table border=\"1\" class=\"dataframe\">\n",
       "  <thead>\n",
       "    <tr style=\"text-align: right;\">\n",
       "      <th></th>\n",
       "      <th>model</th>\n",
       "      <th>uplift@10%</th>\n",
       "      <th>uplift@20%</th>\n",
       "    </tr>\n",
       "  </thead>\n",
       "  <tbody>\n",
       "    <tr>\n",
       "      <th>0</th>\n",
       "      <td>SoloModel</td>\n",
       "      <td>0.099072</td>\n",
       "      <td>0.088734</td>\n",
       "    </tr>\n",
       "    <tr>\n",
       "      <th>1</th>\n",
       "      <td>ClassTransformation</td>\n",
       "      <td>0.091272</td>\n",
       "      <td>0.082507</td>\n",
       "    </tr>\n",
       "    <tr>\n",
       "      <th>2</th>\n",
       "      <td>TwoModels</td>\n",
       "      <td>0.104000</td>\n",
       "      <td>0.074360</td>\n",
       "    </tr>\n",
       "  </tbody>\n",
       "</table>\n",
       "</div>"
      ],
      "text/plain": [
       "                 model  uplift@10%  uplift@20%\n",
       "0            SoloModel    0.099072    0.088734\n",
       "1  ClassTransformation    0.091272    0.082507\n",
       "2            TwoModels    0.104000    0.074360"
      ]
     },
     "execution_count": 18,
     "metadata": {},
     "output_type": "execute_result"
    }
   ],
   "source": [
    "metrics_df"
   ]
  },
  {
   "cell_type": "markdown",
   "metadata": {
    "id": "Cs-eaedPUnWj"
   },
   "source": [
    "\n",
    "8. *для модели S-learner построить зависимость таргета (конверсии - поле conversion) от значения uplift:\n",
    "    1. сделать прогноз и получить uplift для тестовой выборки\n",
    "    2. отсортировать тестовую выборку по uplift по убыванию\n",
    "    3. разбить на децили (pandas qcut вам в помощь)\n",
    "    4. для каждого дециля посчитать среднюю conversion"
   ]
  },
  {
   "cell_type": "code",
   "execution_count": 19,
   "metadata": {
    "id": "nGj5S5ywTZPn"
   },
   "outputs": [],
   "source": [
    "sm = SoloModel(\n",
    "    CatBoostClassifier(iterations=20, random_state=42, silent=True, cat_features=cat_feature)\n",
    ")\n",
    "sm = sm.fit(X_train, y_train, treat_train)\n",
    "uplift_sm = sm.predict(X_test)"
   ]
  },
  {
   "cell_type": "code",
   "execution_count": 20,
   "metadata": {
    "colab": {
     "base_uri": "https://localhost:8080/",
     "height": 206
    },
    "id": "E1eZl9QDW4uE",
    "outputId": "24b2ba30-83e2-476a-9c14-f5176605fea9"
   },
   "outputs": [
    {
     "data": {
      "text/html": [
       "<div>\n",
       "<style scoped>\n",
       "    .dataframe tbody tr th:only-of-type {\n",
       "        vertical-align: middle;\n",
       "    }\n",
       "\n",
       "    .dataframe tbody tr th {\n",
       "        vertical-align: top;\n",
       "    }\n",
       "\n",
       "    .dataframe thead th {\n",
       "        text-align: right;\n",
       "    }\n",
       "</style>\n",
       "<table border=\"1\" class=\"dataframe\">\n",
       "  <thead>\n",
       "    <tr style=\"text-align: right;\">\n",
       "      <th></th>\n",
       "      <th>recency</th>\n",
       "      <th>history</th>\n",
       "      <th>used_discount</th>\n",
       "      <th>used_bogo</th>\n",
       "      <th>zip_code</th>\n",
       "      <th>is_referral</th>\n",
       "      <th>channel</th>\n",
       "      <th>pred_uplift</th>\n",
       "      <th>conversion</th>\n",
       "    </tr>\n",
       "  </thead>\n",
       "  <tbody>\n",
       "    <tr>\n",
       "      <th>55340</th>\n",
       "      <td>6</td>\n",
       "      <td>165.72</td>\n",
       "      <td>0</td>\n",
       "      <td>1</td>\n",
       "      <td>Surburban</td>\n",
       "      <td>0</td>\n",
       "      <td>Web</td>\n",
       "      <td>0.062095</td>\n",
       "      <td>0</td>\n",
       "    </tr>\n",
       "    <tr>\n",
       "      <th>50088</th>\n",
       "      <td>2</td>\n",
       "      <td>356.81</td>\n",
       "      <td>1</td>\n",
       "      <td>0</td>\n",
       "      <td>Surburban</td>\n",
       "      <td>1</td>\n",
       "      <td>Multichannel</td>\n",
       "      <td>0.042637</td>\n",
       "      <td>0</td>\n",
       "    </tr>\n",
       "    <tr>\n",
       "      <th>41899</th>\n",
       "      <td>12</td>\n",
       "      <td>59.53</td>\n",
       "      <td>1</td>\n",
       "      <td>0</td>\n",
       "      <td>Rural</td>\n",
       "      <td>0</td>\n",
       "      <td>Phone</td>\n",
       "      <td>0.067221</td>\n",
       "      <td>0</td>\n",
       "    </tr>\n",
       "    <tr>\n",
       "      <th>60235</th>\n",
       "      <td>11</td>\n",
       "      <td>316.64</td>\n",
       "      <td>1</td>\n",
       "      <td>0</td>\n",
       "      <td>Surburban</td>\n",
       "      <td>0</td>\n",
       "      <td>Web</td>\n",
       "      <td>0.039097</td>\n",
       "      <td>0</td>\n",
       "    </tr>\n",
       "    <tr>\n",
       "      <th>50752</th>\n",
       "      <td>1</td>\n",
       "      <td>397.63</td>\n",
       "      <td>0</td>\n",
       "      <td>1</td>\n",
       "      <td>Surburban</td>\n",
       "      <td>0</td>\n",
       "      <td>Web</td>\n",
       "      <td>0.077440</td>\n",
       "      <td>0</td>\n",
       "    </tr>\n",
       "  </tbody>\n",
       "</table>\n",
       "</div>"
      ],
      "text/plain": [
       "       recency  history  used_discount  used_bogo   zip_code  is_referral  \\\n",
       "55340        6   165.72              0          1  Surburban            0   \n",
       "50088        2   356.81              1          0  Surburban            1   \n",
       "41899       12    59.53              1          0      Rural            0   \n",
       "60235       11   316.64              1          0  Surburban            0   \n",
       "50752        1   397.63              0          1  Surburban            0   \n",
       "\n",
       "            channel  pred_uplift  conversion  \n",
       "55340           Web     0.062095           0  \n",
       "50088  Multichannel     0.042637           0  \n",
       "41899         Phone     0.067221           0  \n",
       "60235           Web     0.039097           0  \n",
       "50752           Web     0.077440           0  "
      ]
     },
     "execution_count": 20,
     "metadata": {},
     "output_type": "execute_result"
    }
   ],
   "source": [
    "df_test = X_test.copy()\n",
    "df_test['pred_uplift'] = uplift_sm\n",
    "df_test['conversion'] = y_test\n",
    "df_test.head()"
   ]
  },
  {
   "cell_type": "code",
   "execution_count": 21,
   "metadata": {
    "colab": {
     "base_uri": "https://localhost:8080/",
     "height": 206
    },
    "id": "VLzUCmOIUteC",
    "outputId": "c5a618bd-c5ed-43b1-90db-a4ea24cbe679"
   },
   "outputs": [
    {
     "data": {
      "text/html": [
       "<div>\n",
       "<style scoped>\n",
       "    .dataframe tbody tr th:only-of-type {\n",
       "        vertical-align: middle;\n",
       "    }\n",
       "\n",
       "    .dataframe tbody tr th {\n",
       "        vertical-align: top;\n",
       "    }\n",
       "\n",
       "    .dataframe thead th {\n",
       "        text-align: right;\n",
       "    }\n",
       "</style>\n",
       "<table border=\"1\" class=\"dataframe\">\n",
       "  <thead>\n",
       "    <tr style=\"text-align: right;\">\n",
       "      <th></th>\n",
       "      <th>recency</th>\n",
       "      <th>history</th>\n",
       "      <th>used_discount</th>\n",
       "      <th>used_bogo</th>\n",
       "      <th>zip_code</th>\n",
       "      <th>is_referral</th>\n",
       "      <th>channel</th>\n",
       "      <th>pred_uplift</th>\n",
       "      <th>conversion</th>\n",
       "    </tr>\n",
       "  </thead>\n",
       "  <tbody>\n",
       "    <tr>\n",
       "      <th>35723</th>\n",
       "      <td>1</td>\n",
       "      <td>1079.29</td>\n",
       "      <td>0</td>\n",
       "      <td>1</td>\n",
       "      <td>Rural</td>\n",
       "      <td>1</td>\n",
       "      <td>Multichannel</td>\n",
       "      <td>0.171815</td>\n",
       "      <td>0</td>\n",
       "    </tr>\n",
       "    <tr>\n",
       "      <th>38494</th>\n",
       "      <td>8</td>\n",
       "      <td>1087.73</td>\n",
       "      <td>0</td>\n",
       "      <td>1</td>\n",
       "      <td>Rural</td>\n",
       "      <td>1</td>\n",
       "      <td>Multichannel</td>\n",
       "      <td>0.162761</td>\n",
       "      <td>0</td>\n",
       "    </tr>\n",
       "    <tr>\n",
       "      <th>5428</th>\n",
       "      <td>1</td>\n",
       "      <td>822.69</td>\n",
       "      <td>0</td>\n",
       "      <td>1</td>\n",
       "      <td>Rural</td>\n",
       "      <td>1</td>\n",
       "      <td>Multichannel</td>\n",
       "      <td>0.160267</td>\n",
       "      <td>1</td>\n",
       "    </tr>\n",
       "    <tr>\n",
       "      <th>5343</th>\n",
       "      <td>1</td>\n",
       "      <td>796.97</td>\n",
       "      <td>0</td>\n",
       "      <td>1</td>\n",
       "      <td>Rural</td>\n",
       "      <td>1</td>\n",
       "      <td>Multichannel</td>\n",
       "      <td>0.160267</td>\n",
       "      <td>0</td>\n",
       "    </tr>\n",
       "    <tr>\n",
       "      <th>55047</th>\n",
       "      <td>1</td>\n",
       "      <td>821.30</td>\n",
       "      <td>0</td>\n",
       "      <td>1</td>\n",
       "      <td>Rural</td>\n",
       "      <td>1</td>\n",
       "      <td>Multichannel</td>\n",
       "      <td>0.160267</td>\n",
       "      <td>0</td>\n",
       "    </tr>\n",
       "  </tbody>\n",
       "</table>\n",
       "</div>"
      ],
      "text/plain": [
       "       recency  history  used_discount  used_bogo zip_code  is_referral  \\\n",
       "35723        1  1079.29              0          1    Rural            1   \n",
       "38494        8  1087.73              0          1    Rural            1   \n",
       "5428         1   822.69              0          1    Rural            1   \n",
       "5343         1   796.97              0          1    Rural            1   \n",
       "55047        1   821.30              0          1    Rural            1   \n",
       "\n",
       "            channel  pred_uplift  conversion  \n",
       "35723  Multichannel     0.171815           0  \n",
       "38494  Multichannel     0.162761           0  \n",
       "5428   Multichannel     0.160267           1  \n",
       "5343   Multichannel     0.160267           0  \n",
       "55047  Multichannel     0.160267           0  "
      ]
     },
     "execution_count": 21,
     "metadata": {},
     "output_type": "execute_result"
    }
   ],
   "source": [
    "df_test = df_test.sort_values(by='pred_uplift', ascending=False)\n",
    "df_test.head()"
   ]
  },
  {
   "cell_type": "code",
   "execution_count": 22,
   "metadata": {
    "colab": {
     "base_uri": "https://localhost:8080/",
     "height": 206
    },
    "id": "DpCyyKRMXoL2",
    "outputId": "7fd25bae-843d-4d81-e8ba-c7a2fd6d2743"
   },
   "outputs": [
    {
     "data": {
      "text/html": [
       "<div>\n",
       "<style scoped>\n",
       "    .dataframe tbody tr th:only-of-type {\n",
       "        vertical-align: middle;\n",
       "    }\n",
       "\n",
       "    .dataframe tbody tr th {\n",
       "        vertical-align: top;\n",
       "    }\n",
       "\n",
       "    .dataframe thead th {\n",
       "        text-align: right;\n",
       "    }\n",
       "</style>\n",
       "<table border=\"1\" class=\"dataframe\">\n",
       "  <thead>\n",
       "    <tr style=\"text-align: right;\">\n",
       "      <th></th>\n",
       "      <th>recency</th>\n",
       "      <th>history</th>\n",
       "      <th>used_discount</th>\n",
       "      <th>used_bogo</th>\n",
       "      <th>zip_code</th>\n",
       "      <th>is_referral</th>\n",
       "      <th>channel</th>\n",
       "      <th>pred_uplift</th>\n",
       "      <th>conversion</th>\n",
       "      <th>deciles</th>\n",
       "    </tr>\n",
       "  </thead>\n",
       "  <tbody>\n",
       "    <tr>\n",
       "      <th>35723</th>\n",
       "      <td>1</td>\n",
       "      <td>1079.29</td>\n",
       "      <td>0</td>\n",
       "      <td>1</td>\n",
       "      <td>Rural</td>\n",
       "      <td>1</td>\n",
       "      <td>Multichannel</td>\n",
       "      <td>0.171815</td>\n",
       "      <td>0</td>\n",
       "      <td>9</td>\n",
       "    </tr>\n",
       "    <tr>\n",
       "      <th>38494</th>\n",
       "      <td>8</td>\n",
       "      <td>1087.73</td>\n",
       "      <td>0</td>\n",
       "      <td>1</td>\n",
       "      <td>Rural</td>\n",
       "      <td>1</td>\n",
       "      <td>Multichannel</td>\n",
       "      <td>0.162761</td>\n",
       "      <td>0</td>\n",
       "      <td>9</td>\n",
       "    </tr>\n",
       "    <tr>\n",
       "      <th>5428</th>\n",
       "      <td>1</td>\n",
       "      <td>822.69</td>\n",
       "      <td>0</td>\n",
       "      <td>1</td>\n",
       "      <td>Rural</td>\n",
       "      <td>1</td>\n",
       "      <td>Multichannel</td>\n",
       "      <td>0.160267</td>\n",
       "      <td>1</td>\n",
       "      <td>9</td>\n",
       "    </tr>\n",
       "    <tr>\n",
       "      <th>5343</th>\n",
       "      <td>1</td>\n",
       "      <td>796.97</td>\n",
       "      <td>0</td>\n",
       "      <td>1</td>\n",
       "      <td>Rural</td>\n",
       "      <td>1</td>\n",
       "      <td>Multichannel</td>\n",
       "      <td>0.160267</td>\n",
       "      <td>0</td>\n",
       "      <td>9</td>\n",
       "    </tr>\n",
       "    <tr>\n",
       "      <th>55047</th>\n",
       "      <td>1</td>\n",
       "      <td>821.30</td>\n",
       "      <td>0</td>\n",
       "      <td>1</td>\n",
       "      <td>Rural</td>\n",
       "      <td>1</td>\n",
       "      <td>Multichannel</td>\n",
       "      <td>0.160267</td>\n",
       "      <td>0</td>\n",
       "      <td>9</td>\n",
       "    </tr>\n",
       "  </tbody>\n",
       "</table>\n",
       "</div>"
      ],
      "text/plain": [
       "       recency  history  used_discount  used_bogo zip_code  is_referral  \\\n",
       "35723        1  1079.29              0          1    Rural            1   \n",
       "38494        8  1087.73              0          1    Rural            1   \n",
       "5428         1   822.69              0          1    Rural            1   \n",
       "5343         1   796.97              0          1    Rural            1   \n",
       "55047        1   821.30              0          1    Rural            1   \n",
       "\n",
       "            channel  pred_uplift  conversion  deciles  \n",
       "35723  Multichannel     0.171815           0        9  \n",
       "38494  Multichannel     0.162761           0        9  \n",
       "5428   Multichannel     0.160267           1        9  \n",
       "5343   Multichannel     0.160267           0        9  \n",
       "55047  Multichannel     0.160267           0        9  "
      ]
     },
     "execution_count": 22,
     "metadata": {},
     "output_type": "execute_result"
    }
   ],
   "source": [
    "df_test['deciles'] = pd.qcut(df_test['pred_uplift'], q=10, labels=False)\n",
    "df_test.head()"
   ]
  },
  {
   "cell_type": "code",
   "execution_count": 23,
   "metadata": {
    "colab": {
     "base_uri": "https://localhost:8080/"
    },
    "id": "ljPSOcAqXmpX",
    "outputId": "8fe21296-92f3-4733-cde0-ac1e24611271"
   },
   "outputs": [
    {
     "name": "stdout",
     "output_type": "stream",
     "text": [
      "Для дециля 0 средняя конверсия равна 0.112\n",
      "Для дециля 1 средняя конверсия равна 0.117\n",
      "Для дециля 2 средняя конверсия равна 0.129\n",
      "Для дециля 3 средняя конверсия равна 0.119\n",
      "Для дециля 4 средняя конверсия равна 0.121\n",
      "Для дециля 5 средняя конверсия равна 0.155\n",
      "Для дециля 6 средняя конверсия равна 0.151\n",
      "Для дециля 7 средняя конверсия равна 0.154\n",
      "Для дециля 8 средняя конверсия равна 0.183\n",
      "Для дециля 9 средняя конверсия равна 0.228\n"
     ]
    }
   ],
   "source": [
    "for i in range(0, 10):\n",
    "    tmp = df_test[df_test['deciles'] == i]\n",
    "    print(f'Для дециля {i} средняя конверсия равна {tmp[\"conversion\"].mean():.3f}')"
   ]
  },
  {
   "cell_type": "markdown",
   "metadata": {},
   "source": [
    "7. построить модель UpliftTreeClassifier и попытаться описать словами полученное дерево"
   ]
  },
  {
   "cell_type": "markdown",
   "metadata": {},
   "source": [
    "Библиотека casualml тупо не ставится, проблема с ws c++. Танцы с бубном не помогли.\n",
    "В целом, принцип работы - как у обычного дерева решений. Задает все подряд вопросы, выбирает из них тот, для которого больше критерий (только не Джини и не энтропия, а в нашем случае impurity).\n",
    "И так далее, пока закончит по критерию останова - по глубине или количеству листьев."
   ]
  }
 ],
 "metadata": {
  "colab": {
   "provenance": [],
   "toc_visible": true
  },
  "kernelspec": {
   "display_name": "Python 3 (ipykernel)",
   "language": "python",
   "name": "python3"
  },
  "language_info": {
   "codemirror_mode": {
    "name": "ipython",
    "version": 3
   },
   "file_extension": ".py",
   "mimetype": "text/x-python",
   "name": "python",
   "nbconvert_exporter": "python",
   "pygments_lexer": "ipython3",
   "version": "3.10.0"
  }
 },
 "nbformat": 4,
 "nbformat_minor": 1
}
